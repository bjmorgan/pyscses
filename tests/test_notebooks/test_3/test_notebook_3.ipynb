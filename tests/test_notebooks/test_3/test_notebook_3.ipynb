{
 "cells": [
  {
   "cell_type": "markdown",
   "metadata": {},
   "source": [
    "# Test 3 - Site explicit modelling under Gouy-Chapman conditions.\n",
    "\n",
    "**Running the code in this notebook takes approximately 27 minutes. (iMac with 4 Ghz i7 processor).**\n",
    "\n",
    "This notebook can be run to verify that the code is working as expected using the site explicit model under Gouy-Chapman conditions, without including the additional site charge.\n",
    "The data collected by running this notebook is a DataFrame, saved in `output_data.csv` which contains information about the conditions applied to the calculation, the $x$ coordinate data, and the calculated electrostatic potential, charge density and input and output defect mole fraction. A DataFrame stored in `key_data.dat`, which includes the calculated space charge properties and a saved figure for the elctrostatic potential, charge density and defect mole fractions as a function of $x$.\n",
    "The outputs from running this notebook will be stored in the `generated_outputs` directory and can be compared to the controlled outputs previously calculated in `expected_outputs` directory. "
   ]
  },
  {
   "cell_type": "code",
   "execution_count": 1,
   "metadata": {},
   "outputs": [],
   "source": [
    "from pyscses.defect_species import DefectSpecies\n",
    "from pyscses.structure_data import StructureData\n",
    "from pyscses.set_of_sites import SetOfSites\n",
    "from pyscses.constants import boltzmann_eV\n",
    "from pyscses.calculation import Calculation, calculate_activation_energies\n",
    "from pyscses.grid import Grid\n",
    "\n",
    "import os\n",
    "import numpy as np\n",
    "import pandas as pd\n",
    "import matplotlib.pyplot as plt\n",
    "%matplotlib inline\n",
    "import matplotlib\n",
    "matplotlib.font_manager._rebuild()"
   ]
  },
  {
   "cell_type": "code",
   "execution_count": 2,
   "metadata": {},
   "outputs": [],
   "source": [
    "if not os.path.isdir('generated_outputs'):\n",
    "    os.mkdir('generated_outputs')"
   ]
  },
  {
   "cell_type": "code",
   "execution_count": 3,
   "metadata": {},
   "outputs": [],
   "source": [
    "boundary_conditions = 'periodic'\n",
    "site_charges = False\n",
    "systems = 'gouy-chapman'\n",
    "core_models = False\n",
    "site_models = 'site_explicit'\n",
    "scaling = True"
   ]
  },
  {
   "cell_type": "code",
   "execution_count": 4,
   "metadata": {},
   "outputs": [],
   "source": [
    "alpha = 0.0005\n",
    "conv = 1e-8\n",
    "grid_x_limits = [-6.094e-9, 5.16e-9]\n",
    "bulk_x_min = -5.783e-9\n",
    "bulk_x_max = -2.502e-9\n",
    "\n",
    "dielectric = 55\n",
    "\n",
    "index = 111\n",
    "b = 7.65327e-10\n",
    "c = 7.65327e-10\n",
    "\n",
    "temp = [ 773.15 ]"
   ]
  },
  {
   "cell_type": "code",
   "execution_count": 5,
   "metadata": {},
   "outputs": [],
   "source": [
    "valence = [ +2.0, -1.0 ]\n",
    "site_labels = [ 'O', 'Ce' ]\n",
    "defect_labels = ['Vo', 'Gd']\n",
    "mole_fractions = np.array([ [ 0.05, 0.2 ] ])\n",
    "initial_guess = np.array([ [ 0.05, 0.2 ] ])\n",
    "mobilities = [ 1.0, 0.0 ]\n",
    "able_to_equilibrate = [True, True]"
   ]
  },
  {
   "cell_type": "code",
   "execution_count": 6,
   "metadata": {},
   "outputs": [],
   "source": [
    "data = '../input_data/Gd_CeO2_111_data.txt'"
   ]
  },
  {
   "cell_type": "code",
   "execution_count": 7,
   "metadata": {},
   "outputs": [],
   "source": [
    "labels=['core_model', 'site_model', 'MS_GC', 'site_charge', \n",
    "        'resistivity_scaling', 'temperature', 'input_mole_fractions', \n",
    "        'x', 'phi', 'rho', 'Vo_mole_fraction', 'Gd_mole_fraction']\n",
    "output_data = pd.DataFrame(columns=labels)\n",
    "filename = 'generated_outputs/output_data.csv'"
   ]
  },
  {
   "cell_type": "code",
   "execution_count": 8,
   "metadata": {},
   "outputs": [],
   "source": [
    "structure_data = StructureData.from_file(filename=data,\n",
    "                                         x_limits=grid_x_limits,\n",
    "                                         b=b,\n",
    "                                         c=c)"
   ]
  },
  {
   "cell_type": "code",
   "execution_count": null,
   "metadata": {},
   "outputs": [
    {
     "name": "stdout",
     "output_type": "stream",
     "text": [
      "Defect species Vo has valence 2.0, bulk mole fraction 0.05, and mobility 1.0. Defect species Vo can equilibrate.\n",
      "Defect species Gd has valence -1.0, bulk mole fraction 0.2, and mobility 0.0. Defect species Gd can equilibrate.\n"
     ]
    }
   ],
   "source": [
    "for m in mole_fractions:\n",
    "    for t in temp:\n",
    "    \n",
    "        defect_species = [DefectSpecies(label=l,\n",
    "                                        valence=v,\n",
    "                                        mole_fraction=m,\n",
    "                                        mobility=mob,\n",
    "                                       can_equilibrate = eq)\n",
    "                          for l, v, m, mob, eq\n",
    "                          in zip(defect_labels, valence, m, mobilities, able_to_equilibrate)]\n",
    "\n",
    "        all_sites = SetOfSites.from_sites_data(sites_data=structure_data.sites_data,\n",
    "                                               defect_species=defect_species, verbose = True)\n",
    "\n",
    "\n",
    "        grid = Grid.from_set_of_sites(all_sites,\n",
    "                                      structure_data.limits,\n",
    "                                      structure_data.laplacian_limits,\n",
    "                                      structure_data.b,\n",
    "                                      structure_data.c)\n",
    "        \n",
    "        c_o = Calculation(grid,\n",
    "                          bulk_x_min,\n",
    "                          bulk_x_max,\n",
    "                          alpha,\n",
    "                          conv,\n",
    "                          dielectric,\n",
    "                          t,\n",
    "                          boundary_conditions)\n",
    "        c_o.form_subgrids( site_labels )\n",
    "        if systems == 'gouy-chapman':\n",
    "            c_o.mole_fraction_correction(m,\n",
    "                                         systems,\n",
    "                                         initial_guess)\n",
    "        c_o.solve(systems, verbose=True)\n",
    "        c_o.mole_fractions()\n",
    "        c_o.calculate_resistivity_ratio('positive', 2e-2)\n",
    "        c_o.solve_MS_approx_for_phi(valence[0])\n",
    "        \n",
    "        output_data['x'] = grid.x\n",
    "        output_data['phi'] = c_o.phi\n",
    "        output_data['rho'] = c_o.rho\n",
    "        output_data['Vo_mole_fraction'] = c_o.mf[site_labels[0]]\n",
    "        output_data['Gd_mole_fraction'] = c_o.mf[site_labels[1]]\n",
    "        output_data['core_model'] = str(core_models)\n",
    "        output_data['site_model'] = str(site_models)\n",
    "        output_data['MS_GC'] = str(systems)\n",
    "        output_data['site_charge'] = str(site_charges)\n",
    "        output_data['resistivity_scaling'] = str(scaling)\n",
    "        output_data['temperature'] = t\n",
    "        output_data['input_mole_fractions'] = str(m)\n",
    "        output_data.to_csv(filename, index=False)\n",
    "        \n",
    "        key_data = np.column_stack(( max(c_o.phi), c_o.perpendicular_resistivity_ratio, c_o.parallel_resistivity_ratio ))\n",
    "        np.savetxt( 'generated_outputs/key_data.dat', key_data )     \n"
   ]
  },
  {
   "cell_type": "code",
   "execution_count": null,
   "metadata": {},
   "outputs": [],
   "source": [
    "# from fig_params import rcParams\n",
    "# import fig_params as fp\n",
    "# rcParams.update( fp.transitionfig_formatting)\n",
    "plt.plot(grid.x, c_o.phi)\n",
    "plt.xlabel( '$x$ $\\mathrm{coordinate}$' )\n",
    "plt.ylabel('$\\Phi$ $\\mathrm{( eV )}$')\n",
    "plt.xlim( -5e-9, 5e-9)\n",
    "plt.ylim(min(c_o.phi))\n",
    "plt.savefig('generated_outputs/x_vs_potential.pdf')\n",
    "plt.show()\n",
    "\n",
    "plt.plot(grid.x, c_o.rho)\n",
    "plt.xlabel( '$x$ $\\mathrm{coordinate}$'  )\n",
    "plt.ylabel(' $ \\\\rho $ $(\\mathrm{C m}^{-1})$')\n",
    "plt.xlim( -5e-9, 5e-9)\n",
    "plt.ylim(min(c_o.rho))\n",
    "plt.savefig('generated_outputs/x_vs_chargedensity.pdf')\n",
    "plt.show()\n",
    "\n",
    "plt.plot(grid.x, c_o.mf[site_labels[0]], label = '$\\mathrm{Vo}^{..}$', zorder = 5.0)\n",
    "plt.plot(grid.x, c_o.mf[site_labels[1]], label = '$\\mathrm{Gd}$', zorder = 4.0)\n",
    "plt.xlabel( '$x$ $\\mathrm{coordinate}$'  )\n",
    "plt.ylabel('$x_{i}$')\n",
    "plt.xlim( -5e-9, 5e-9)\n",
    "plt.ylim(0.0)\n",
    "plt.legend()\n",
    "plt.savefig('generated_outputs/x_vs_molefractions.pdf')\n",
    "plt.show()"
   ]
  },
  {
   "cell_type": "code",
   "execution_count": null,
   "metadata": {},
   "outputs": [],
   "source": []
  }
 ],
 "metadata": {
  "kernelspec": {
   "display_name": "Python 3",
   "language": "python",
   "name": "python3"
  },
  "language_info": {
   "codemirror_mode": {
    "name": "ipython",
    "version": 3
   },
   "file_extension": ".py",
   "mimetype": "text/x-python",
   "name": "python",
   "nbconvert_exporter": "python",
   "pygments_lexer": "ipython3",
   "version": "3.7.0"
  }
 },
 "nbformat": 4,
 "nbformat_minor": 2
}
