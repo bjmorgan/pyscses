{
 "cells": [
  {
   "cell_type": "markdown",
   "metadata": {},
   "source": [
    "# Mott-Schottky model for calculating the space charge potential\n",
    "\n",
    "**Running the code in this notebook (under Mott-Schottky conditions for the 6 defined temperatures) takes approximately 3 minutes (iMac with 4 Ghz i7 processor).**\n",
    "\n",
    "Analysis of grain boundary effects on ionic conductivity typically considers the space-charge potential as a characteristic parameter. However $r_{GB}$ can be obtained directly from experimental impedance spectroscopy, whereas the space charge potential cannot and is therefore approximated using the Mott-Schottky model. \n",
    "\n",
    "$$ r_{GB} = \\frac{\\rho_{i,x}}{\\rho_{i,\\infty}} = \\frac{\\mathrm{exp}(z\\Phi_0 / k_BT)}{2z \\Phi_0 / k_BT } $$\n",
    "\n",
    "The conventional Mott-Schottky analysis assumes that the grain boundart region is negligably thin and that oxygen vacancies are fully depleted in the space-charge region. This gives an analytical description of the space-charge behaviour which can be completely characterised from the space charge potential.\n",
    "\n",
    "The function to calculate the Mott-Schottky aprroximation for the space charge potential takes one argument, and that is the charge of the mobile defect.\n",
    "```\n",
    "c_o.solve_MS_approx_for_phi( valence[0] )\n",
    "```"
   ]
  },
  {
   "cell_type": "code",
   "execution_count": 1,
   "metadata": {},
   "outputs": [],
   "source": [
    "from pyscses.defect_species import DefectSpecies\n",
    "from pyscses.set_of_sites import SetOfSites\n",
    "from pyscses.constants import boltzmann_eV\n",
    "from pyscses.calculation import Calculation, calculate_activation_energies\n",
    "from pyscses.set_up_calculation import calculate_grid_offsets\n",
    "from pyscses.grid import Grid\n",
    "\n",
    "import numpy as np\n",
    "import pandas as pd\n",
    "import matplotlib.pyplot as plt\n",
    "%matplotlib inline"
   ]
  },
  {
   "cell_type": "code",
   "execution_count": 2,
   "metadata": {},
   "outputs": [],
   "source": [
    "boundary_conditions = 'periodic'\n",
    "site_charges = False\n",
    "systems = 'mott-schottky'\n",
    "core_models = False\n",
    "site_models = 'site_explicit'"
   ]
  },
  {
   "cell_type": "code",
   "execution_count": 3,
   "metadata": {},
   "outputs": [],
   "source": [
    "alpha = 0.0005\n",
    "\n",
    "conv = 1e-8\n",
    "grid_x_min = -2.0e-8\n",
    "grid_x_max = +2.0e-8\n",
    "bulk_x_min = -2.0e-8\n",
    "bulk_x_max = -1.0e-8\n",
    "\n",
    "dielectric = 1\n",
    "\n",
    "index = 111\n",
    "\n",
    "b = 5e-9\n",
    "c = 5e-9\n",
    "\n",
    "temp = [ 773.15, 873.15, 973.15, 1073.15, 1173.15, 1273.15 ]"
   ]
  },
  {
   "cell_type": "code",
   "execution_count": 4,
   "metadata": {},
   "outputs": [],
   "source": [
    "valence = [ +1.0, -1.0 ]\n",
    "site_labels = ['site_1', 'site_2']\n",
    "defect_labels = ['defect_1', 'defect_2']\n",
    "mole_fractions = [ [ 0.2, 0.2 ] ]\n",
    "initial_guess = [ [ 0.2, 0.2 ] ]\n",
    "mobilities = [ 1.0, 1.0 ]"
   ]
  },
  {
   "cell_type": "code",
   "execution_count": 5,
   "metadata": {},
   "outputs": [],
   "source": [
    "data = '../input_data/example_data_2_one_seg_energies.txt'"
   ]
  },
  {
   "cell_type": "code",
   "execution_count": 6,
   "metadata": {},
   "outputs": [
    {
     "name": "stdout",
     "output_type": "stream",
     "text": [
      "--- 184.58980011940002 seconds ---\n"
     ]
    }
   ],
   "source": [
    "space_charge_potential_list = []\n",
    "MS_space_charge_potential_list =[]\n",
    "\n",
    "limits, laplacian_limits = calculate_grid_offsets( data, grid_x_min, grid_x_max, 'single' )\n",
    "\n",
    "for m in mole_fractions:\n",
    "    for t in temp:\n",
    "    \n",
    "        defect_species = { l : DefectSpecies( l, v, m, mob ) for l, v, m, mob in zip( defect_labels, valence, m, mobilities ) }\n",
    "\n",
    "        all_sites = SetOfSites.set_of_sites_from_input_data( data, [grid_x_min, grid_x_max], defect_species, site_charges, core_models, t )\n",
    "        if site_models == 'continuum':\n",
    "            all_sites, limits = SetOfSites.form_continuum_sites( all_sites, grid_x_min, grid_x_max, 1000, b, c, defect_species, laplacian_limits, site_labels, defect_labels )\n",
    "        if systems == 'mott-schottky':\n",
    "            for site in all_sites.subset( 'site_2' ):\n",
    "                site.defect_with_label('defect_2').fixed = True\n",
    "        if systems == 'gouy-chapman':\n",
    "            for site in all_sites.subset( 'site_2' ):\n",
    "                site.defect_with_label('defect_2').fixed = False\n",
    "        grid = Grid.grid_from_set_of_sites( all_sites, limits, laplacian_limits, b, c )\n",
    "        \n",
    "        c_o = Calculation( grid, bulk_x_min, bulk_x_max, alpha, conv, dielectric, t, boundary_conditions )\n",
    "        c_o.form_subgrids( site_labels )\n",
    "        if systems == 'gouy-chapman':\n",
    "            c_o.mole_fraction_correction( m, systems, initial_guess )\n",
    "        c_o.solve(systems)\n",
    "        c_o.mole_fractions()\n",
    "        c_o.calculate_resistivity_ratio( 'positive', 2e-2 )\n",
    "        c_o.solve_MS_approx_for_phi( valence[0] )\n",
    "        \n",
    "        space_charge_potential_list.append(max(c_o.phi))\n",
    "        MS_space_charge_potential_list.append(c_o.ms_phi)"
   ]
  },
  {
   "cell_type": "markdown",
   "metadata": {},
   "source": [
    "The space-charge potential calculated using the Mott-Schottky model can be compared to the space-charge potential calculated using the Poisson-Boltzmann solver as demonstrated below."
   ]
  },
  {
   "cell_type": "code",
   "execution_count": 7,
   "metadata": {},
   "outputs": [
    {
     "data": {
      "image/png": "[encoded data removed]",
      "text/plain": [
       "<matplotlib.figure.Figure at 0x11849d2b0>"
      ]
     },
     "metadata": {
      "needs_background": "light"
     },
     "output_type": "display_data"
    }
   ],
   "source": [
    "plt.plot( temp, space_charge_potential_list, label = '$\\Phi_0^{PB}$' )\n",
    "plt.plot( temp, MS_space_charge_potential_list, label = ' $\\Phi_0^{MS}$' )\n",
    "plt.xlabel( 'Temperature (K)' )\n",
    "plt.ylabel( 'Potential (eV)' )\n",
    "plt.legend()\n",
    "plt.show()"
   ]
  },
  {
   "cell_type": "code",
   "execution_count": null,
   "metadata": {},
   "outputs": [],
   "source": []
  }
 ],
 "metadata": {
  "kernelspec": {
   "display_name": "Python 3",
   "language": "python",
   "name": "python3"
  },
  "language_info": {
   "codemirror_mode": {
    "name": "ipython",
    "version": 3
   },
   "file_extension": ".py",
   "mimetype": "text/x-python",
   "name": "python",
   "nbconvert_exporter": "python",
   "pygments_lexer": "ipython3",
   "version": "3.6.1"
  }
 },
 "nbformat": 4,
 "nbformat_minor": 2
}
