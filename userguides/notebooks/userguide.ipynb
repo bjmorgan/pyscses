{
 "cells": [
  {
   "cell_type": "markdown",
   "metadata": {},
   "source": [
    "# `pyscses` - python space charge site explicit solver\n",
    "\n",
    "## Overview\n",
    "\n",
    "`pyscses` is a Python module that implements a site-explicit, one-dimensional Poisson-Boltzmann solver, used for modelling ionic space charge properties in solid materials. In polycrystalline solid materials, grain boundaries and interfaces exist separating different crystalline domains. The structural distortion at these interfaces causes segregation of charge carriers to, or away from the grain boundary core. Due to this, the grain boundary core carries a net charge which causes the depletion or accumulation of charge carriers in the regions adjacent, known as space charge regions. Due to the variation on charge carrier concentrations, the ionic conductivity of the material can be strongly affected by the presence of grain boundaries.Space charge properties such as electrostatic potential, charge density and charge carrier distributions over the space charge region can be calculated using the Poisson-Boltzmann equation from the input of defect segregation energies and atomically resolved charge carrier positions. The grain boundary resistivity and activation energy can be calculated by extending the model using the calculated charge carrier distributions. `pyscses` also accounts for different approximations typically assumed when space charge formation is considered. These approximations include site explicit vs. continuum modelling, Mott-Schokkty (single mobile defect species) and Gouy-Chapman (all defect species mobile) conditions, and whether the charge of the non-defective species should be considered."
   ]
  },
  {
   "cell_type": "markdown",
   "metadata": {},
   "source": [
    "## Notebooks\n",
    "\n",
    "[Theory](Theory.ipynb)\n",
    "\n",
    "[Setting up the notebook](Setting_up.ipynb)\n",
    "\n",
    "[Running the calculation](Running.ipynb)\n",
    "\n",
    "[Example 1 - continuum vs. site explicit and boundary conditions](Ex_1_BC.ipynb)\n",
    "\n",
    "[Example 2 - Mott-Schottky vs. Gouy-Chapman conditions](Ex_2_MSGC.ipynb)\n",
    "\n",
    "[Example 3 - Calculating the grain boundary resistivity and activation energy](Ex_3_Res.ipynb)\n",
    "\n",
    "[Example 4 - Comparison with 'experimental' values](Ex_4_MSapp.ipynb)\n",
    "\n",
    "[Example 5 - Using the pyscses with real data](Ex_5_real_data.ipynb)\n",
    "\n",
    "[Example 6 - Storing the output data](Ex_6_store_data.ipynb)"
   ]
  }
 ],
 "metadata": {
  "kernelspec": {
   "display_name": "Python 3",
   "language": "python",
   "name": "python3"
  },
  "language_info": {
   "codemirror_mode": {
    "name": "ipython",
    "version": 3
   },
   "file_extension": ".py",
   "mimetype": "text/x-python",
   "name": "python",
   "nbconvert_exporter": "python",
   "pygments_lexer": "ipython3",
   "version": "3.9.1"
  }
 },
 "nbformat": 4,
 "nbformat_minor": 2
}
