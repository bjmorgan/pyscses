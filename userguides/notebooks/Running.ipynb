{
 "cells": [
  {
   "cell_type": "markdown",
   "metadata": {},
   "source": [
    "## Running the calculation\n",
    "**Running the code under Gouy-Chapman conditions takes approximately 19 minutes (iMac with 4 Ghz i7 processor).**\n",
    "\n",
    "This is due to the Poisson-Boltzmann solver being run multiple times to minimise the difference between input and output mole fractions."
   ]
  },
  {
   "cell_type": "code",
   "execution_count": 1,
   "metadata": {},
   "outputs": [],
   "source": [
    "from pyscses.defect_species import DefectSpecies\n",
    "from pyscses.set_of_sites import SetOfSites\n",
    "from pyscses.constants import boltzmann_eV\n",
    "from pyscses.calculation import Calculation, calculate_activation_energies\n",
    "from pyscses.set_up_calculation import calculate_grid_offsets\n",
    "from pyscses.grid import Grid\n",
    "\n",
    "import numpy as np\n",
    "import pandas as pd\n",
    "import matplotlib.pyplot as plt\n",
    "%matplotlib inline"
   ]
  },
  {
   "cell_type": "code",
   "execution_count": 2,
   "metadata": {},
   "outputs": [],
   "source": [
    "boundary_conditions = 'dirichlet'\n",
    "site_charges = False\n",
    "systems = 'gouy-chapman'\n",
    "core_models = False\n",
    "site_models = 'continuum'"
   ]
  },
  {
   "cell_type": "code",
   "execution_count": 3,
   "metadata": {},
   "outputs": [],
   "source": [
    "alpha = 0.0005\n",
    "\n",
    "conv = 1e-8\n",
    "grid_x_min = -2.0e-8\n",
    "grid_x_max = +2.0e-8\n",
    "bulk_x_min = -2.0e-8\n",
    "bulk_x_max = -1.0e-8\n",
    "\n",
    "dielectric = 1\n",
    "\n",
    "index = 111\n",
    "\n",
    "b = 5e-9\n",
    "c = 5e-9\n",
    "\n",
    "temp = [773.15]"
   ]
  },
  {
   "cell_type": "code",
   "execution_count": 4,
   "metadata": {},
   "outputs": [],
   "source": [
    "valence = [ +1.0, -1.0 ]\n",
    "site_labels = ['site_1', 'site_2']\n",
    "defect_labels = ['defect_1', 'defect_2']\n",
    "mole_fractions = [ [ 0.2, 0.2 ] ]\n",
    "initial_guess = [ [ 0.2, 0.2 ] ]\n",
    "mobilities = [1.0, 1.0]"
   ]
  },
  {
   "cell_type": "code",
   "execution_count": 5,
   "metadata": {},
   "outputs": [],
   "source": [
    "data = '../input_data/example_data_2_one_seg_energies.txt'"
   ]
  },
  {
   "cell_type": "markdown",
   "metadata": {},
   "source": [
    "The ```limits``` are the widths between the midpoint of the final site and an 'imaginary' site extending beyond the calculation unit. These are calculated to use in delta_x calculations where the width of each site is required to calculate volumes or densities. The ```laplacian_limits``` are the widths between the end sites.\n",
    "\n",
    "```\n",
    "limits, laplacian_limits = calculate_grid_offsets( data, grid_x_min, grid_x_max, 'single' )\n",
    "```\n",
    "\n",
    "If the calculation is being run over a number of different conditions, the mole fractions are looped over. \n",
    "\n",
    "```\n",
    "for m in mole_fractions:\n",
    "```\n",
    "\n",
    "If the calculation is being run over a number of different conditions, the temperatures are looped over.\n",
    "\n",
    "```\n",
    "for t in temp:\n",
    "```\n",
    "\n",
    "Next the different defect species are defined using the ```Defect_Species``` class. This collects and stores the information about each defect, the defect label, the defect valence and the defect mole fraction.\n",
    "\n",
    "```\n",
    "defect_species = { l : Defect_Species( l, v, m ) for l, v, m in zip( defect_labels, valence, m) }\n",
    "```\n",
    "\n",
    "The input data file and system information are passed into ```set_of_sites_from_input_data```, which formats and splits wach line of the input file to create ```Site``` objects for the individual sites, which are then grouped together into a ```SetOfSites``` object. \n",
    "\n",
    "```\n",
    "all_sites = SetOfSites.set_of_sites_from_input_data( data, [grid_x_min, grid_x_max], defect_species, site_charges, core_models, t )\n",
    "```\n",
    "\n",
    "The code checks whether the model being used is continuum, if so, the sites are passed into ```form_continuum_sites``` which interpolates the defect segregation energies onto a regular grid.\n",
    "\n",
    "```\n",
    "if site_models == 'continuum':\n",
    "    all_sites, limits = SetOfSites.form_continuum_sites( all_sites, grid_x_min, grid_x_max, 1000, b, c, defect_species, laplacian_limits, site_labels, defect_labels )\n",
    "```\n",
    "\n",
    "ace charge models typically consider dopant ions as either mobile or immobile. If the dopant ions are considered immobile, the model follows a Mott-Schottky approximation. If the dopant ions are considered mobile, the model follows a Gouy-Chapman approximation. The code checks whether a Mott-Schottky or Gouy-Chapman approximation is being applied and fixes the mole fractions of the defects accordingly. \n",
    "\n",
    "```\n",
    "if systems == 'mott-schottky':\n",
    "    for site in all_sites.subset( 'site_2' ):\n",
    "        site.defect_with_label('defect_2').fixed = True\n",
    "if systems == 'gouy-chapman':\n",
    "    for site in all_sites.subset( 'site_2' ):\n",
    "        site.defect_with_label('defect_2').fixed = False\n",
    "```\n",
    "\n",
    "A grid is created using the ```Grid``` class. This includes the array of $x$ coordinates, b/c (the width and height of the cell used in the atomistic simulation) and the full set of sites ```all_sites```\n",
    "\n",
    "```\n",
    "grid = Grid.grid_from_set_of_sites( all_sites, limits, laplacian_limits, b, c )\n",
    "```\n",
    "\n",
    "Following this, a Calculation object is created. This class contains the functions which calculate the space charge properties if the system.\n",
    "\n",
    "```\n",
    "c_o = Calculation( grid, bulk_x_min, bulk_x_max, alpha, conv, t, boundary_conditions, initial_guess )\n",
    "```\n",
    "\n",
    "Subgrids are created for each of the defect species.\n",
    "\n",
    "```\n",
    "c_o.form_subgrids( site_labels )\n",
    "```\n",
    "\n",
    "If the system follows Gouy-Chapman conditions, and periodic boundary conditions are being enforced, a mole fraction correction is required to ensure the output bulk mole fraction is equivalent to the input bulk mole fraction. This function runs the Poisson-Boltzmann calculation and minimises the difference between the target and output mole fractions. This is not required when running the calculation using Mott-Schottky conditions. \n",
    "\n",
    "```\n",
    "c_o.mole_fraction_correction( m, system )\n",
    "```\n",
    "\n",
    "Next, the Poisson-Boltzmann equation is solved for the given system. The potential and charge density are calculated. This uses a function ```calculation``` which takes as arguments ``` grid, conv, temp, alpha and boundary_conditions ```. The ```calculation``` function creates numpy arrays the same length as the grid including zeros for the potential (```phi```) and the charge density (```rho```). \n",
    "\n",
    " **Solving the Poisson-Boltzmann equation**\n",
    "\n",
    "1. The invertible matrix $A$ is created from the distances between each of the points on the grid. Initially the full matrix is created using ```scipy.sparse.diags```  and is then converted into a sparse tridiagonal matrix using ```scipy.sparse.csc_matrix``` and the calculation follows the finite difference approximation method defined above. \n",
    "2. The convergence is initialised as 1 and while it is larger than ```conv``` defined in the notebook the calculation will iterate. \n",
    "3. Using the ```phi``` array of zeros, the charge density is calculated at each site. Using the calculated value for the charge density at each site $\\Phi = A^{-1}b$ is solved using ```scipy.linalg.spsolve```. This returns ```predicted_phi``` at each site, which is damped using $\\alpha$ to become the new ```phi``` array. The convergence is updated using $\\frac{ \\sum_i ( ( \\Phi_{predicted} - \\Phi )^2 )}{L_{grid.x}}$ where $L_{grid.x}$ is the length of the grid.\n",
    "\n",
    "```\n",
    "c_o.solve(system)\n",
    "```\n",
    "\n",
    "Using the calculated equilibrium electrostatic potentials at each site, the defect mole fractions can be calculated. \n",
    "```\n",
    "c_o.mole_fractions()\n",
    "```\n",
    "\n",
    "The resistivity ratio can be calculated from the previously calculated defect concentrations. ```c_o.calculate_resistivity_ratio``` takes two arguments. Firstly, whether the space charge potential is positive or negative and secondly a limit for the value of the potential that the site must exceed to be considered as the space charge region.\n",
    "\n",
    "```\n",
    "c_o.calculate_resistivity_ratio( 'positive', 2e-2 )\n",
    "```\n",
    "\n",
    "If the calculation is run over a number of temperatures, and the resistivity ratios stored in a list the activation energy can be calculates.\n",
    "\n",
    "```\n",
    "c_o.calculate_activation_energies( resistivity_ratios, temp )\n",
    "```\n"
   ]
  },
  {
   "cell_type": "code",
   "execution_count": 6,
   "metadata": {},
   "outputs": [
    {
     "name": "stdout",
     "output_type": "stream",
     "text": [
      "--- 1132.7030682563782 seconds ---\n"
     ]
    }
   ],
   "source": [
    "limits, laplacian_limits = calculate_grid_offsets( data, grid_x_min, grid_x_max, 'single' )\n",
    "\n",
    "for m in mole_fractions:\n",
    "    for t in temp:\n",
    "    \n",
    "        defect_species = { l : DefectSpecies( l, v, m, mob ) for l, v, m, mob in zip( defect_labels, valence, m, mobilities ) }\n",
    "\n",
    "        all_sites = SetOfSites.set_of_sites_from_input_data( data, [grid_x_min, grid_x_max], defect_species, site_charges, core_models, t )\n",
    "        if site_models == 'continuum':\n",
    "            all_sites, limits = SetOfSites.form_continuum_sites( all_sites, grid_x_min, grid_x_max, 1000, b, c, defect_species, laplacian_limits, site_labels, defect_labels )\n",
    "        if systems == 'mott-schottky':\n",
    "            for site in all_sites.subset( 'site_2' ):\n",
    "                site.defect_with_label('defect_2').fixed = True\n",
    "        if systems == 'gouy-chapman':\n",
    "            for site in all_sites.subset( 'site_2' ):\n",
    "                site.defect_with_label('defect_2').fixed = False\n",
    "        grid = Grid.grid_from_set_of_sites( all_sites, limits, laplacian_limits, b, c )\n",
    "        \n",
    "        c_o = Calculation( grid, bulk_x_min, bulk_x_max, alpha, conv, dielectric, t, boundary_conditions )\n",
    "        c_o.form_subgrids( site_labels )\n",
    "        if systems == 'gouy-chapman':\n",
    "            c_o.mole_fraction_correction( m, systems, initial_guess )\n",
    "        c_o.solve(systems)\n",
    "        c_o.mole_fractions()\n",
    "        c_o.calculate_resistivity_ratio( 'positive', 2e-2 )"
   ]
  },
  {
   "cell_type": "markdown",
   "metadata": {},
   "source": [
    "The space charge properties can then be plot, using ```matplotlib.pyplot```."
   ]
  },
  {
   "cell_type": "code",
   "execution_count": 7,
   "metadata": {},
   "outputs": [
    {
     "data": {
      "image/png": "[encoded data removed]",
      "text/plain": [
       "<matplotlib.figure.Figure at 0x1163321d0>"
      ]
     },
     "metadata": {
      "needs_background": "light"
     },
     "output_type": "display_data"
    },
    {
     "data": {
      "image/png": "[encoded data removed]",
      "text/plain": [
       "<matplotlib.figure.Figure at 0x105ee00f0>"
      ]
     },
     "metadata": {
      "needs_background": "light"
     },
     "output_type": "display_data"
    },
    {
     "data": {
      "image/png": "[encoded data removed]",
      "text/plain": [
       "<matplotlib.figure.Figure at 0x118efc550>"
      ]
     },
     "metadata": {
      "needs_background": "light"
     },
     "output_type": "display_data"
    }
   ],
   "source": [
    "plt.plot(grid.x, c_o.phi)\n",
    "plt.xlabel( '$x$ $\\mathrm{coordinate}$' )\n",
    "plt.ylabel('$\\Phi$ $\\mathrm{( eV )}$')\n",
    "plt.show()\n",
    "\n",
    "plt.plot(grid.x, c_o.rho)\n",
    "plt.xlabel( '$x$ $\\mathrm{coordinate}$'  )\n",
    "plt.ylabel(' $\\mathrm{charge density}$ $(\\mathrm{C m}^{-1})$')\n",
    "plt.show()\n",
    "\n",
    "plt.plot(grid.x, c_o.mf[site_labels[1]], label = '$\\mathrm{defect_1}$')\n",
    "plt.plot(grid.x, c_o.mf[site_labels[0]], label = '$\\mathrm{defect_2}$')\n",
    "plt.xlabel( '$x$ $\\mathrm{coordinate}$'  )\n",
    "plt.ylabel('$x_{i}$')\n",
    "plt.legend()\n",
    "plt.show()"
   ]
  }
 ],
 "metadata": {
  "kernelspec": {
   "display_name": "Python 3",
   "language": "python",
   "name": "python3"
  },
  "language_info": {
   "codemirror_mode": {
    "name": "ipython",
    "version": 3
   },
   "file_extension": ".py",
   "mimetype": "text/x-python",
   "name": "python",
   "nbconvert_exporter": "python",
   "pygments_lexer": "ipython3",
   "version": "3.6.1"
  }
 },
 "nbformat": 4,
 "nbformat_minor": 2
}
